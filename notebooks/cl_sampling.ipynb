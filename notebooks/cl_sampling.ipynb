{
 "cells": [
  {
   "cell_type": "markdown",
   "id": "1539f714-697a-4d4d-808e-673bc269854b",
   "metadata": {},
   "source": [
    "# Sampling $C_\\ell$ spectra from Planck data"
   ]
  },
  {
   "cell_type": "markdown",
   "id": "8e2aef5c-9f5a-48dc-90d3-8b7c848d499e",
   "metadata": {},
   "source": [
    "Strategy: Use Planck lite data and data covariance.\n",
    "\n",
    "To consider: Use Planck lite covmat with full Planck means?"
   ]
  },
  {
   "cell_type": "code",
   "execution_count": null,
   "id": "448b7426-7960-47ad-aa68-8621ad77e443",
   "metadata": {},
   "outputs": [],
   "source": [
    "import os\n",
    "import scipy\n",
    "import numpy as np\n",
    "import matplotlib\n",
    "import matplotlib.pyplot as plt\n",
    "from scipy.io import FortranFile\n",
    "from collections import namedtuple\n",
    "from sklearn.decomposition import PCA"
   ]
  },
  {
   "cell_type": "code",
   "execution_count": null,
   "id": "736964a9",
   "metadata": {},
   "outputs": [],
   "source": [
    "from classy import Class\n",
    "a = Class()\n",
    "T_cmb = a.T_cmb()"
   ]
  },
  {
   "cell_type": "code",
   "execution_count": null,
   "id": "bc4f103c",
   "metadata": {},
   "outputs": [],
   "source": [
    "height = 2\n",
    "fontsize = 11/1.2\n",
    "cm = 1/2.54  # centimeters in inches\n",
    "width = 8.6*cm # PRL figure width\n",
    "matplotlib.rcParams.update({\n",
    "    'font.size'          : fontsize,\n",
    "    'mathtext.fontset'   : 'cm',\n",
    "})\n",
    "Hubbles_to_Gyr = 0.001022"
   ]
  },
  {
   "cell_type": "markdown",
   "id": "04272bf2",
   "metadata": {},
   "source": [
    "**Question**: What to actually take as input in the NN? \n",
    "\n",
    "Convention (subject to change): The Cls formatted as CLASS-output.\n",
    "\n",
    "*Disadvantage*: Requires assuming constant $T_\\mathrm{cmb}$ from CLASS. When does this change? Easy to get rid of: Just assume to take the input multiplied by $(T_\\mathrm{cmb}\\cdot10^6)^2$ (i.e. converted to $(\\mu K)^2$)."
   ]
  },
  {
   "cell_type": "markdown",
   "id": "28b1bb50-5d73-4715-b77b-a5b0ecdaeccb",
   "metadata": {},
   "source": [
    "### Load Planck lite data\n",
    "Broadly copied from https://github.com/heatherprince/planck-lite-py/blob/master/planck_lite_py.py"
   ]
  },
  {
   "cell_type": "code",
   "execution_count": null,
   "id": "f406707e",
   "metadata": {},
   "outputs": [],
   "source": [
    "def Cl2Dl(ll, Cl):\n",
    "    return Cl*(ll*(ll + 1))/(2*np.pi)\n",
    "\n",
    "def Dl2Cl(ll, Dl):\n",
    "    return Dl/(ll*(ll + 1))*(2*np.pi)"
   ]
  },
  {
   "cell_type": "code",
   "execution_count": null,
   "id": "3f48bd49-e3b7-48ee-84e5-8a4dc7891f9f",
   "metadata": {
    "scrolled": false
   },
   "outputs": [],
   "source": [
    "class PlanckDataSampler:\n",
    "    SamplesTuple = namedtuple('SamplesTuple', ['tt', 'te', 'ee'])\n",
    "    factor = (T_cmb*1.e6)**2\n",
    "\n",
    "    def __init__(self):\n",
    "        self.calPlanck=1\n",
    "\n",
    "        self.nbintt_hi = 215 #30-2508   #used when getting covariance matrix\n",
    "        self.nbinte = 199 #30-1996\n",
    "        self.nbinee = 199 #30-1996\n",
    "        self.nbin_hi=self.nbintt_hi+self.nbinte+self.nbinee\n",
    "\n",
    "        self.data_dir = '../data/planck2018_plik_lite/'\n",
    "        self.cov_file = os.path.join(self.data_dir, 'c_matrix_plik_v22.dat')\n",
    "        self.like_file = os.path.join(self.data_dir, 'cl_cmb_plik_v22.dat')\n",
    "        self.blmin_file = os.path.join(self.data_dir, 'blmin.dat')\n",
    "        self.blmax_file = os.path.join(self.data_dir, 'blmax.dat')\n",
    "        self.binw_file = os.path.join(self.data_dir, 'bweight.dat')\n",
    "        \n",
    "        self.bval, self.X_data, self.X_sig=np.genfromtxt(self.like_file, unpack=True)\n",
    "        self.blmin=np.loadtxt(self.blmin_file).astype(int)\n",
    "        self.blmax=np.loadtxt(self.blmax_file).astype(int)\n",
    "        self.bin_w=np.loadtxt(self.binw_file)\n",
    "\n",
    "        self.nbintt=self.nbintt_hi\n",
    "        self.nbin_tot=self.nbintt+self.nbinte+self.nbinee\n",
    "        \n",
    "        # Planck measured value\n",
    "        self.Cl_tt = self.X_data[:self.nbintt]\n",
    "        self.l_tt = self.bval[:self.nbintt]\n",
    "        self.Dl_tt = Cl2Dl(self.l_tt, self.Cl_tt)\n",
    "        self.Cl_te = self.X_data[self.nbintt:self.nbintt+self.nbinte]\n",
    "        self.l_te = self.bval[self.nbintt:self.nbintt+self.nbinte]\n",
    "        self.Dl_te = Cl2Dl(self.l_te, self.Cl_te)\n",
    "        self.Cl_ee = self.X_data[self.nbintt+self.nbinte:]\n",
    "        self.l_ee = self.bval[self.nbintt+self.nbinte:]\n",
    "        self.Dl_ee = Cl2Dl(self.l_ee, self.Cl_ee)\n",
    "        \n",
    "        self.LCDM = {}\n",
    "        lcdm_data = np.genfromtxt('../data/COM_PowerSpect_CMB-base-plikHM-TTTEEE-lowl-lowE-lensing-minimum-theory_R3.01.txt')\n",
    "        lcdm_l = [float(k) for k in lcdm_data[:, 0]]\n",
    "        def get_indices(ell_list, bin_centers):\n",
    "            indices = []\n",
    "            for l in ell_list:\n",
    "                if l in bin_centers:\n",
    "                    indices.append(int(l))\n",
    "            return indices\n",
    "        \n",
    "        # TO DO: MULTIPLY WITH THE CORRECT calPlanck**2 (although I think this is just 1)\n",
    "        self.LCDM['Dltt'] = lcdm_data[:, 1][get_indices(lcdm_l, self.bval[:self.nbintt])]\n",
    "        self.LCDM['Dlte'] = lcdm_data[:, 2][get_indices(lcdm_l, self.bval[self.nbintt:self.nbintt+self.nbinte])]\n",
    "        self.LCDM['Dlee'] = lcdm_data[:, 3][get_indices(lcdm_l, self.bval[self.nbintt+self.nbinte:])]\n",
    "        self.LCDM['Cltt'] = Dl2Cl(self.l_tt, self.LCDM['Dltt'])\n",
    "        self.LCDM['Clte'] = Dl2Cl(self.l_te, self.LCDM['Dlte'])\n",
    "        self.LCDM['Clee'] = Dl2Cl(self.l_ee, self.LCDM['Dlee'])\n",
    "        \n",
    "        #read full covmat\n",
    "        f = FortranFile(self.cov_file, 'r')\n",
    "        covmat = f.read_reals(dtype=float).reshape((self.nbin_hi,self.nbin_hi))\n",
    "        for i in range(self.nbin_hi):\n",
    "            for j in range(i,self.nbin_hi):\n",
    "                covmat[i,j] = covmat[j,i]\n",
    "\n",
    "        # Assume always both TT, TE and EE\n",
    "        bin_no=self.nbin_hi\n",
    "        self.cov = covmat\n",
    "\n",
    "    def sample_lcdm(self, size=1, sigma_scale=1, uncor=False):\n",
    "        # Returns Cl samples with LCDM mean \n",
    "        if uncor:\n",
    "            cov = np.eye(self.cov.shape[0])*np.diag(self.cov)*sigma_scale\n",
    "        else:\n",
    "            cov = self.cov\n",
    "        samples = np.random.multivariate_normal(\n",
    "            mean=np.concatenate([self.LCDM['Cltt'], self.LCDM['Clte'], self.LCDM['Clee']]), \n",
    "            cov=cov*sigma_scale,\n",
    "            size=size\n",
    "        )\n",
    "        return self.SamplesTuple(tt=samples[:,:self.nbintt], te=samples[:,self.nbintt:self.nbintt+self.nbinte], ee=samples[:,self.nbintt+self.nbinte:])\n",
    "        \n",
    "    def sample_data(self, size=1, sigma_scale=1, uncor=False):\n",
    "        # Returns Cl samples with data mean\n",
    "        if uncor:\n",
    "            cov = np.eye(self.cov.shape[0])*np.diag(self.cov)*sigma_scale\n",
    "        else:\n",
    "            cov = self.cov\n",
    "        samples = np.random.multivariate_normal(\n",
    "            mean=np.concatenate([self.Cl_tt, self.Cl_te, self.Cl_ee]), \n",
    "            cov=self.cov*sigma_scale,\n",
    "            size=size\n",
    "        )\n",
    "        return self.SamplesTuple(tt=samples[:,:self.nbintt], te=samples[:,self.nbintt:self.nbintt+self.nbinte], ee=samples[:,self.nbintt+self.nbinte:])\n",
    "    \n",
    "    def get_samples_array(self, samples):\n",
    "        if not isinstance(samples, self.SamplesTuple):\n",
    "            raise ValueError('Input must be a SamplesTuple.')\n",
    "        # First row is ell, second row is Cl\n",
    "        array_tt = np.vstack([self.l_tt, samples.tt])\n",
    "        array_te = np.vstack([self.l_te, samples.te])\n",
    "        array_ee = np.vstack([self.l_ee, samples.ee])\n",
    "        return np.concatenate([array_tt, array_te, array_ee], axis=1)\n",
    "    \n",
    "    def set_pca(self, samples: SamplesTuple, n_components):\n",
    "        samples_aligned = np.concatenate([samples.tt, samples.te, samples.ee], axis=1)\n",
    "\n",
    "        # CARRY OUT NORMALIZATION!\n",
    "\n",
    "        self.pca = PCA(n_components=n_components)\n",
    "        self.pca.fit(samples_aligned)\n",
    "\n",
    "sampler = PlanckDataSampler()"
   ]
  },
  {
   "cell_type": "markdown",
   "id": "4def2fa3-8fe7-48ca-9d42-825391004840",
   "metadata": {},
   "source": [
    "### Plot of data means"
   ]
  },
  {
   "cell_type": "code",
   "execution_count": null,
   "id": "6ab097b8-e9d4-4316-8d06-f621d32120c6",
   "metadata": {},
   "outputs": [],
   "source": [
    "llim = [28, 2506]\n",
    "marks = 3\n",
    "lws=0.5\n",
    "\n",
    "fig, ax = plt.subplots(3, 1, figsize=(2*width, 4*height))\n",
    "ax[0].set(xticks=[], ylabel=r'$\\mathcal{C}_\\ell^{\\mathrm{TT}}$ [$(\\mu K)^2$]', xscale='linear', xlim=llim)\n",
    "ax[1].set(xticks=[], ylabel=r'$\\mathcal{C}_\\ell^{\\mathrm{TE}}$', xscale='linear', xlim=llim)\n",
    "ax[2].set(xlabel=r'$\\ell$', ylabel=r'$\\mathcal{C}_\\ell^{\\mathrm{EE}}$', xscale='linear', xlim=llim)\n",
    "ax[0].plot(sampler.l_tt, sampler.Cl_tt, 'k.-', ms=marks, lw=lws)\n",
    "ax[0].plot(sampler.l_tt, sampler.LCDM['Cltt'], 'r-', ms=marks, lw=1)\n",
    "ax[1].plot(sampler.l_te, sampler.Cl_te, 'k.-', ms=marks, lw=lws)\n",
    "ax[1].plot(sampler.l_te, sampler.LCDM['Clte'], 'r-', ms=marks, lw=1)\n",
    "ax[2].plot(sampler.l_ee, sampler.Cl_ee, 'k.-', ms=marks, lw=lws)\n",
    "ax[2].plot(sampler.l_ee, sampler.LCDM['Clee'], 'r-', ms=marks, lw=1)\n",
    "\n",
    "fig.subplots_adjust(hspace=0)"
   ]
  },
  {
   "cell_type": "markdown",
   "id": "1d6c33e7",
   "metadata": {},
   "source": [
    "Are the units OK compared to Fig. 1, 2 in https://arxiv.org/pdf/1807.06209.pdf?"
   ]
  },
  {
   "cell_type": "markdown",
   "id": "89ef5fd0",
   "metadata": {},
   "source": [
    "# Drawing spectra from covmat"
   ]
  },
  {
   "cell_type": "code",
   "execution_count": null,
   "id": "41698e93",
   "metadata": {},
   "outputs": [],
   "source": [
    "N = 1000\n",
    "scale = 1\n",
    "samples = sampler.sample_lcdm(N, sigma_scale=scale)"
   ]
  },
  {
   "cell_type": "code",
   "execution_count": null,
   "id": "650c403b",
   "metadata": {},
   "outputs": [],
   "source": [
    "# Save samples\n",
    "np.savetxt(f'samples_{N}.txt', sampler.get_samples_array(samples))"
   ]
  },
  {
   "cell_type": "code",
   "execution_count": null,
   "id": "d0f87429",
   "metadata": {
    "scrolled": false
   },
   "outputs": [],
   "source": [
    "llim = [28, 2506]\n",
    "marks = 3\n",
    "lws=0.5\n",
    "N_plot = 1\n",
    "sample_alpha = 1.0009 - 0.000900901*N_plot\n",
    "sample_ls = 0.50045 - 0.00045045*N_plot\n",
    "fig, ax = plt.subplots(3, 2, figsize=(4*width, 5*height))\n",
    "ax[0,0].set_title(f'{N_plot} samples, sigma_factor={scale:.2e}')\n",
    "ax[0,0].set(xticks=[], xticklabels=[], ylabel=r'$\\mathcal{C}_\\ell^{\\mathrm{TT}}$', xscale='linear', xlim=llim)\n",
    "ax[1,0].set(xticks=[], xticklabels=[], ylabel=r'$\\mathcal{C}_\\ell^{\\mathrm{TE}}$', xscale='linear', xlim=llim)\n",
    "ax[2,0].set(xlabel=r'$\\ell$', ylabel=r'$\\mathcal{C}_\\ell^{\\mathrm{EE}}$', xscale='linear', xlim=llim)\n",
    "ax[0,0].plot(sampler.l_tt, sampler.Cl_tt, 'k.-', ms=marks, lw=lws)\n",
    "ax[0,0].plot(sampler.l_tt, sampler.LCDM['Cltt'], 'r-', ms=marks, lw=1)\n",
    "ax[1,0].plot(sampler.l_te, sampler.Cl_te, 'k.-', ms=marks, lw=lws)\n",
    "ax[1,0].plot(sampler.l_te, sampler.LCDM['Clte'], 'r-', ms=marks, lw=1)\n",
    "ax[2,0].plot(sampler.l_ee, sampler.Cl_ee, 'k.-', ms=marks, lw=lws)\n",
    "ax[2,0].plot(sampler.l_ee, sampler.LCDM['Clee'], 'r-', ms=marks, lw=1)\n",
    "ax[0,1].set_title(f'{N} samples, sigma_factor={scale:.2e}')\n",
    "ax[0,1].set(xticks=[],xticklabels=[],  ylabel=r'$\\Delta \\mathcal{C}_\\ell^{\\mathrm{TT}}$', xscale='linear', xlim=llim)\n",
    "ax[1,1].set(xticks=[], xticklabels=[], ylabel=r'$\\Delta  \\mathcal{C}_\\ell^{\\mathrm{TE}}$', xscale='linear', xlim=llim)\n",
    "ax[2,1].set(xlabel=r'$\\ell$', ylabel=r'$\\Delta \\mathcal{C}_\\ell^{\\mathrm{EE}}$', xscale='linear', xlim=llim)\n",
    "for idx in range(N_plot):\n",
    "    ax[0,0].plot(sampler.l_tt, samples.tt[idx], 'k-', lw=sample_ls, alpha=sample_alpha)\n",
    "    ax[1,0].plot(sampler.l_te, samples.te[idx], 'k-', lw=sample_ls, alpha=sample_alpha)\n",
    "    ax[2,0].plot(sampler.l_ee, samples.ee[idx], 'k-', lw=sample_ls, alpha=sample_alpha)\n",
    "    ax[0,1].plot(sampler.l_tt, samples.tt[idx] - sampler.LCDM['Cltt'], 'k.', lw=sample_ls, alpha=sample_alpha, ms=2)\n",
    "    ax[0,1].plot(sampler.l_tt, np.zeros(len(sampler.l_tt)), 'k:', lw=0.9)\n",
    "    ax[1,1].plot(sampler.l_te, samples.te[idx] - sampler.LCDM['Clte'], 'k.', lw=sample_ls, alpha=sample_alpha, ms=2)\n",
    "    ax[1,1].plot(sampler.l_tt, np.zeros(len(sampler.l_tt)), 'k:', lw=0.9)\n",
    "    ax[2,1].plot(sampler.l_ee, samples.ee[idx] - sampler.LCDM['Clee'], 'k.', lw=sample_ls, alpha=sample_alpha, ms=2)\n",
    "    ax[2,1].plot(sampler.l_tt, np.zeros(len(sampler.l_tt)), 'k:', lw=0.9)\n",
    "\n",
    "fig.subplots_adjust(hspace=0, wspace=0.45)\n",
    "fig.savefig('samples.pdf')"
   ]
  },
  {
   "cell_type": "markdown",
   "id": "a60a7fdc",
   "metadata": {},
   "source": [
    "# PCA decomposition"
   ]
  },
  {
   "cell_type": "code",
   "execution_count": null,
   "id": "c7886e68",
   "metadata": {},
   "outputs": [],
   "source": [
    "# Uh oh! Need to make sure samples is the right kind of object.\n",
    "sampler.set_pca(samples, n_components=10)"
   ]
  },
  {
   "cell_type": "code",
   "execution_count": null,
   "id": "540f625b",
   "metadata": {},
   "outputs": [],
   "source": []
  }
 ],
 "metadata": {
  "kernelspec": {
   "display_name": "Python 3 (ipykernel)",
   "language": "python",
   "name": "python3"
  },
  "language_info": {
   "codemirror_mode": {
    "name": "ipython",
    "version": 3
   },
   "file_extension": ".py",
   "mimetype": "text/x-python",
   "name": "python",
   "nbconvert_exporter": "python",
   "pygments_lexer": "ipython3",
   "version": "3.10.5"
  }
 },
 "nbformat": 4,
 "nbformat_minor": 5
}
