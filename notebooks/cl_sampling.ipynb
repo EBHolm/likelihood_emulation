{
 "cells": [
  {
   "cell_type": "markdown",
   "id": "1539f714-697a-4d4d-808e-673bc269854b",
   "metadata": {},
   "source": [
    "# Sampling $C_\\ell$ spectra from Planck data"
   ]
  },
  {
   "cell_type": "markdown",
   "id": "8e2aef5c-9f5a-48dc-90d3-8b7c848d499e",
   "metadata": {},
   "source": [
    "Strategy: Use Planck lite data and data covariance.\n",
    "\n",
    "To consider: Use Planck lite covmat with full Planck means?"
   ]
  },
  {
   "cell_type": "code",
   "execution_count": 39,
   "id": "448b7426-7960-47ad-aa68-8621ad77e443",
   "metadata": {},
   "outputs": [],
   "source": [
    "import os\n",
    "import scipy\n",
    "import numpy as np\n",
    "import matplotlib\n",
    "import matplotlib.pyplot as plt\n",
    "from scipy.io import FortranFile\n",
    "from collections import namedtuple"
   ]
  },
  {
   "cell_type": "code",
   "execution_count": 40,
   "id": "bc4f103c",
   "metadata": {},
   "outputs": [],
   "source": [
    "height = 2\n",
    "fontsize = 11/1.2\n",
    "cm = 1/2.54  # centimeters in inches\n",
    "width = 8.6*cm # PRL figure width\n",
    "matplotlib.rcParams.update({\n",
    "    'font.size'          : fontsize,\n",
    "    'mathtext.fontset'   : 'cm',\n",
    "})\n",
    "Hubbles_to_Gyr = 0.001022"
   ]
  },
  {
   "attachments": {},
   "cell_type": "markdown",
   "id": "28b1bb50-5d73-4715-b77b-a5b0ecdaeccb",
   "metadata": {},
   "source": [
    "### Load Planck lite data\n",
    "Broadly copied from https://github.com/heatherprince/planck-lite-py/blob/master/planck_lite_py.py"
   ]
  },
  {
   "cell_type": "code",
   "execution_count": 70,
   "id": "3f48bd49-e3b7-48ee-84e5-8a4dc7891f9f",
   "metadata": {},
   "outputs": [],
   "source": [
    "class PlanckDataSampler:\n",
    "    SamplesTuple = namedtuple('SamplesTuple', ['tt', 'te', 'ee'])\n",
    "\n",
    "    def __init__(self):\n",
    "        self.calPlanck=1\n",
    "\n",
    "        self.nbintt_hi = 215 #30-2508   #used when getting covariance matrix\n",
    "        self.nbinte = 199 #30-1996\n",
    "        self.nbinee = 199 #30-1996\n",
    "        self.nbin_hi=self.nbintt_hi+self.nbinte+self.nbinee\n",
    "\n",
    "        self.data_dir = '../data/planck2018_plik_lite/'\n",
    "        self.cov_file = os.path.join(self.data_dir, 'c_matrix_plik_v22.dat')\n",
    "        self.like_file = os.path.join(self.data_dir, 'cl_cmb_plik_v22.dat')\n",
    "        self.blmin_file = os.path.join(self.data_dir, 'blmin.dat')\n",
    "        self.blmax_file = os.path.join(self.data_dir, 'blmax.dat')\n",
    "        self.binw_file = os.path.join(self.data_dir, 'bweight.dat')\n",
    "        \n",
    "        self.bval, self.X_data, self.X_sig=np.genfromtxt(self.like_file, unpack=True)\n",
    "        self.blmin=np.loadtxt(self.blmin_file).astype(int)\n",
    "        self.blmax=np.loadtxt(self.blmax_file).astype(int)\n",
    "        self.bin_w=np.loadtxt(self.binw_file)\n",
    "\n",
    "        self.nbintt=self.nbintt_hi\n",
    "        self.nbin_tot=self.nbintt+self.nbinte+self.nbinee\n",
    "\n",
    "        self.Dl_tt = self.X_data[:self.nbintt]\n",
    "        self.l_tt = self.bval[:self.nbintt]\n",
    "        self.Cl_tt = self.Dl_tt*self.l_tt*(self.l_tt + 1)/(2*np.pi)\n",
    "        self.Dl_te = self.X_data[self.nbintt:self.nbintt+self.nbinte]\n",
    "        self.l_te = self.bval[self.nbintt:self.nbintt+self.nbinte]\n",
    "        self.Cl_te = self.Dl_te*self.l_te*(self.l_te + 1)/(2*np.pi)\n",
    "        self.Dl_ee = self.X_data[self.nbintt+self.nbinte:]\n",
    "        self.l_ee = self.bval[self.nbintt+self.nbinte:]\n",
    "        self.Cl_ee = self.Dl_ee*self.l_ee*(self.l_ee + 1)/(2*np.pi)\n",
    "\n",
    "        #read full covmat\n",
    "        f = FortranFile(self.cov_file, 'r')\n",
    "        covmat = f.read_reals(dtype=float).reshape((self.nbin_hi,self.nbin_hi))\n",
    "        for i in range(self.nbin_hi):\n",
    "            for j in range(i,self.nbin_hi):\n",
    "                covmat[i,j] = covmat[j,i]\n",
    "\n",
    "        # Assume always both TT, TE and EE\n",
    "        bin_no=self.nbin_hi\n",
    "        self.cov = covmat\n",
    "\n",
    "        \"\"\"\n",
    "            covmat trouble: it is positive definite, and can be inverted\n",
    "            but its determinant comes out as zero since its diagonal entries are very small\n",
    "\n",
    "            so scipy.stats.multivariate_normal complains, probably because of this\n",
    "            but apparently np.random.multivariate_normal works :) \n",
    "        \n",
    "        \"\"\"\n",
    "        \n",
    "    def sample(self, size=1, sigma_scale=1):\n",
    "        samples = np.random.multivariate_normal(\n",
    "            mean=np.concatenate([self.Cl_tt, self.Cl_te, self.Cl_ee]), \n",
    "            cov=self.cov*sigma_scale,\n",
    "            size=size\n",
    "        )\n",
    "        return self.SamplesTuple(tt=samples[:,:self.nbintt], te=samples[:,self.nbintt:self.nbintt+self.nbinte], ee=samples[:,self.nbintt+self.nbinte:])\n",
    "\n",
    "\n",
    "sampler = PlanckDataSampler()"
   ]
  },
  {
   "cell_type": "code",
   "execution_count": 53,
   "id": "27e91fce-c537-436c-b97a-d050dd0080e4",
   "metadata": {},
   "outputs": [
    {
     "name": "stdout",
     "output_type": "stream",
     "text": [
      "(613,)\n",
      "(613, 613)\n"
     ]
    }
   ],
   "source": [
    "print(np.array(sampler.X_data).shape)\n",
    "print(sampler.cov.shape)\n",
    "#print(sampler.bval)"
   ]
  },
  {
   "attachments": {},
   "cell_type": "markdown",
   "id": "4def2fa3-8fe7-48ca-9d42-825391004840",
   "metadata": {},
   "source": [
    "### Plot of data means"
   ]
  },
  {
   "cell_type": "code",
   "execution_count": 54,
   "id": "6ab097b8-e9d4-4316-8d06-f621d32120c6",
   "metadata": {},
   "outputs": [
    {
     "data": {
      "image/png": "[encoded data removed]",
      "text/plain": [
       "<Figure size 243.78x360 with 3 Axes>"
      ]
     },
     "metadata": {
      "needs_background": "light"
     },
     "output_type": "display_data"
    }
   ],
   "source": [
    "llim = [28, 2506]\n",
    "marks = 3\n",
    "lws=0.5\n",
    "\n",
    "fig, ax = plt.subplots(3, 1, figsize=(width, 2.5*height))\n",
    "ax[0].set(xticks=[], ylabel=r'$\\mathcal{C}_\\ell^{\\mathrm{TT}}$', xscale='linear', xlim=llim)\n",
    "ax[1].set(xticks=[], ylabel=r'$\\mathcal{C}_\\ell^{\\mathrm{TE}}$', xscale='linear', xlim=llim)\n",
    "ax[2].set(xlabel=r'$\\ell$', ylabel=r'$\\mathcal{C}_\\ell^{\\mathrm{EE}}$', xscale='linear', xlim=llim)\n",
    "ax[0].plot(sampler.l_tt, sampler.Cl_tt, 'k.-', ms=marks, lw=lws)\n",
    "ax[1].plot(sampler.l_te, sampler.Cl_te, 'k.-', ms=marks, lw=lws)\n",
    "ax[2].plot(sampler.l_ee, sampler.Cl_ee, 'k.-', ms=marks, lw=lws)\n",
    "\n",
    "fig.subplots_adjust(hspace=0)"
   ]
  },
  {
   "attachments": {},
   "cell_type": "markdown",
   "id": "89ef5fd0",
   "metadata": {},
   "source": [
    "# Drawing spectra from covmat"
   ]
  },
  {
   "cell_type": "code",
   "execution_count": 75,
   "id": "41698e93",
   "metadata": {},
   "outputs": [],
   "source": [
    "N = 250\n",
    "samples = sampler.sample(N, sigma_scale=5)"
   ]
  },
  {
   "cell_type": "code",
   "execution_count": 81,
   "id": "380bd851",
   "metadata": {},
   "outputs": [
    {
     "data": {
      "image/png": "[encoded data removed]",
      "text/plain": [
       "<Figure size 487.559x360 with 6 Axes>"
      ]
     },
     "metadata": {
      "needs_background": "light"
     },
     "output_type": "display_data"
    }
   ],
   "source": [
    "llim = [28, 2506]\n",
    "marks = 3\n",
    "lws=0.5\n",
    "sample_ls = 0.05\n",
    "sample_alpha = 0.1\n",
    "\n",
    "fig, ax = plt.subplots(3, 2, figsize=(2*width, 2.5*height))\n",
    "ax[0,0].set_title(f'{N} samples')\n",
    "ax[0,0].set(xticks=[], ylabel=r'$\\mathcal{C}_\\ell^{\\mathrm{TT}}$', xscale='linear', xlim=llim)\n",
    "ax[1,0].set(xticks=[], ylabel=r'$\\mathcal{C}_\\ell^{\\mathrm{TE}}$', xscale='linear', xlim=llim)\n",
    "ax[2,0].set(xlabel=r'$\\ell$', ylabel=r'$\\mathcal{C}_\\ell^{\\mathrm{EE}}$', xscale='linear', xlim=llim)\n",
    "ax[0,0].plot(sampler.l_tt, sampler.Cl_tt, 'k-', ms=marks, lw=lws)\n",
    "ax[1,0].plot(sampler.l_te, sampler.Cl_te, 'k-', ms=marks, lw=lws)\n",
    "ax[2,0].plot(sampler.l_ee, sampler.Cl_ee, 'k-', ms=marks, lw=lws)\n",
    "ax[0,1].set_title(f'{N} samples')\n",
    "ax[0,1].set(xticks=[], ylabel=r'$\\Delta \\mathcal{D}_\\ell^{\\mathrm{TT}}$', xscale='linear', xlim=llim)\n",
    "ax[1,1].set(xticks=[], ylabel=r'$\\Delta  \\mathcal{D}_\\ell^{\\mathrm{TE}}$', xscale='linear', xlim=llim)\n",
    "ax[2,1].set(xlabel=r'$\\ell$', ylabel=r'$\\Delta \\mathcal{D}_\\ell^{\\mathrm{EE}}$', xscale='linear', xlim=llim)\n",
    "for idx in range(N):\n",
    "    ax[0,0].plot(sampler.l_tt, samples.tt[idx], 'k-', lw=sample_ls, alpha=sample_alpha)\n",
    "    ax[1,0].plot(sampler.l_te, samples.te[idx], 'k-', lw=sample_ls, alpha=sample_alpha)\n",
    "    ax[2,0].plot(sampler.l_ee, samples.ee[idx], 'k-', lw=sample_ls, alpha=sample_alpha)\n",
    "    ax[0,1].plot(sampler.l_tt, samples.tt[idx] - sampler.Cl_tt, 'k-', lw=sample_ls, alpha=sample_alpha)\n",
    "    ax[1,1].plot(sampler.l_te, samples.te[idx] - sampler.Cl_te, 'k-', lw=sample_ls, alpha=sample_alpha)\n",
    "    ax[2,1].plot(sampler.l_ee, samples.ee[idx] - sampler.Cl_ee, 'k-', lw=sample_ls, alpha=sample_alpha)\n",
    "\n",
    "fig.subplots_adjust(hspace=0, wspace=0.45)\n",
    "fig.savefig('samples.pdf')"
   ]
  },
  {
   "attachments": {},
   "cell_type": "markdown",
   "id": "253c214b",
   "metadata": {},
   "source": [
    "High-ell Dl_EE looks very shaky. Planck paper shows only Cl for EE, and without the ell factors in Dl, it doesn't look as bad. \n",
    "\n",
    "The noise in high-ell Dl is a problem, since it means we will get unphysical spectra."
   ]
  },
  {
   "cell_type": "markdown",
   "id": "a60a7fdc",
   "metadata": {},
   "source": []
  }
 ],
 "metadata": {
  "kernelspec": {
   "display_name": "Python 3 (ipykernel)",
   "language": "python",
   "name": "python3"
  },
  "language_info": {
   "codemirror_mode": {
    "name": "ipython",
    "version": 3
   },
   "file_extension": ".py",
   "mimetype": "text/x-python",
   "name": "python",
   "nbconvert_exporter": "python",
   "pygments_lexer": "ipython3",
   "version": "3.10.5"
  }
 },
 "nbformat": 4,
 "nbformat_minor": 5
}
